{
  "nbformat": 4,
  "nbformat_minor": 0,
  "metadata": {
    "colab": {
      "name": "open-vaccine-covid19.ipynb",
      "provenance": [],
      "collapsed_sections": [
        "vAEnazC90QsC"
      ],
      "toc_visible": true
    },
    "kernelspec": {
      "display_name": "Python 3",
      "name": "python3"
    }
  },
  "cells": [
    {
      "cell_type": "markdown",
      "metadata": {
        "id": "2oKvowzGezIe"
      },
      "source": [
        "# Covid-19 Open Vaccine\n",
        "\n",
        "**Name: Stuart Hopkins**\n",
        "\n",
        "**A-Number: A02080107**\n"
      ]
    },
    {
      "cell_type": "markdown",
      "metadata": {
        "id": "tUNOJ4InTRt3"
      },
      "source": [
        "## Introduction\n",
        "Winning the fight against the COVID-19 pandemic will require an effective vaccine that can be equitably and widely distributed. Building upon decades of research has allowed scientists to accelerate the search for a vaccine against COVID-19, but every day that goes by without a vaccine has enormous costs for the world nonetheless. We need new, fresh ideas from all corners of the world. Could online gaming and crowdsourcing help solve a worldwide pandemic? Pairing scientific and crowdsourced intelligence could help computational biochemists make measurable progress.\n",
        "\n",
        "mRNA vaccines have taken the lead as the fastest vaccine candidates for COVID-19, but currently, they face key potential limitations. One of the biggest challenges right now is how to design super stable messenger RNA molecules (mRNA). Conventional vaccines (like your seasonal flu shots) are packaged in disposable syringes and shipped under refrigeration around the world, but that is not currently possible for mRNA vaccines.\n",
        "\n",
        "Researchers have observed that RNA molecules have the tendency to spontaneously degrade. This is a serious limitation--a single cut can render the mRNA vaccine useless. Currently, little is known on the details of where in the backbone of a given RNA is most prone to being affected. Without this knowledge, current mRNA vaccines against COVID-19 must be prepared and shipped under intense refrigeration, and are unlikely to reach more than a tiny fraction of human beings on the planet unless they can be stabilized.\n",
        "\n",
        "\n",
        "\n",
        "The Eterna community, led by Professor Rhiju Das, a computational biochemist at Stanford’s School of Medicine, brings together scientists and gamers to solve puzzles and invent medicine. Eterna is an online video game platform that challenges players to solve scientific problems such as mRNA design through puzzles. The solutions are synthesized and experimentally tested at Stanford by researchers to gain new insights about RNA molecules. The Eterna community has previously unlocked new scientific principles, made new diagnostics against deadly diseases, and engaged the world’s most potent intellectual resources for the betterment of the public. The Eterna community has advanced biotechnology through its contribution in over 20 publications, including advances in RNA biotechnology.\n",
        "\n",
        "In this competition, we are looking to leverage the data science expertise of the Kaggle community to develop models and design rules for RNA degradation. Your model will predict likely degradation rates at each base of an RNA molecule, trained on a subset of an Eterna dataset comprising over 3000 RNA molecules (which span a panoply of sequences and structures) and their degradation rates at each position. We will then score your models on a second generation of RNA sequences that have just been devised by Eterna players for COVID-19 mRNA vaccines. These final test sequences are currently being synthesized and experimentally characterized at Stanford University in parallel to your modeling efforts -- Nature will score your models!\n",
        "\n",
        "Improving the stability of mRNA vaccines was a problem that was being explored before the pandemic but was expected to take many years to solve. Now, we must solve this deep scientific challenge in months, if not weeks, to accelerate mRNA vaccine research and deliver a refrigerator-stable vaccine against SARS-CoV-2, the virus behind COVID-19. The problem we are trying to solve has eluded academic labs, industry R&D groups, and supercomputers, and so we are turning to you. To help, you can join the team of video game players, scientists, and developers at Eterna to unlock the key in our fight against this devastating pandemic."
      ]
    },
    {
      "cell_type": "markdown",
      "metadata": {
        "id": "G8glFuAaUEsP"
      },
      "source": [
        "## Resources\n",
        "Big thanks to @xhlulu for the base to this project. The submission is pulled from many sources (and personal code of course), but is largely based upon the workbook by @xhlulu. "
      ]
    },
    {
      "cell_type": "markdown",
      "metadata": {
        "id": "FKxc87YZdhg7"
      },
      "source": [
        "## Dependancies\n",
        "#### Required Files:\n",
        "All required files can be downloaded <a href=\"https://www.kaggle.com/c/stanford-covid-vaccine/data\">here</a>\n",
        "- input/test.json\n",
        "- input/train.json\n",
        "- input/sample_submission.csv"
      ]
    },
    {
      "cell_type": "code",
      "metadata": {
        "id": "25FSsKkwUaL7"
      },
      "source": [
        "### Uncomment packages that you do not currently have installed to install them\n",
        "# !pip install pandas\n",
        "# !pip install numpy\n",
        "# !pip install plotly\n",
        "# !pip install tensorflow\n",
        "# !pip install sklearn"
      ],
      "execution_count": null,
      "outputs": []
    },
    {
      "cell_type": "code",
      "metadata": {
        "id": "bxE0rpiuxY3P"
      },
      "source": [
        "import json\n",
        "\n",
        "import pandas as pd\n",
        "import numpy as np\n",
        "import plotly.express as px\n",
        "import tensorflow.keras.layers as L\n",
        "import tensorflow as tf\n",
        "from sklearn.model_selection import train_test_split"
      ],
      "execution_count": null,
      "outputs": []
    },
    {
      "cell_type": "markdown",
      "metadata": {
        "id": "_fgko5yb0K0o"
      },
      "source": [
        "## Set random seed\n",
        "Here we are setting the seed so that we can get the same random numbers every time.\n",
        "\n",
        "\n",
        "\n"
      ]
    },
    {
      "cell_type": "code",
      "metadata": {
        "id": "ar2fgP8nyxyQ"
      },
      "source": [
        "tf.random.set_seed(42069)\n",
        "np.random.seed(42069)"
      ],
      "execution_count": null,
      "outputs": []
    },
    {
      "cell_type": "markdown",
      "metadata": {
        "id": "rzNAR6unzL6x"
      },
      "source": [
        "## Load and Preprocess Data"
      ]
    },
    {
      "cell_type": "code",
      "metadata": {
        "id": "yya2CPSmNCY7"
      },
      "source": [
        "bs = 32\n",
        "pred_len = 68\n",
        "pred_cols = ['reactivity', 'deg_Mg_pH10', 'deg_Mg_50C', 'deg_pH10', 'deg_50C']"
      ],
      "execution_count": null,
      "outputs": []
    },
    {
      "cell_type": "code",
      "metadata": {
        "id": "Oh9YFntYy9SO"
      },
      "source": [
        "y_true = tf.random.normal((bs, pred_len, len(pred_cols)))\n",
        "y_pred = tf.random.normal((bs, pred_len, len(pred_cols)))"
      ],
      "execution_count": null,
      "outputs": []
    },
    {
      "cell_type": "code",
      "metadata": {
        "id": "Dx-LuzGwzQ3s"
      },
      "source": [
        "data_dir = 'input/'\n",
        "train = pd.read_json(data_dir + 'train.json', lines=True)\n",
        "test = pd.read_json(data_dir + 'test.json', lines=True)\n",
        "sample_df = pd.read_csv(data_dir + 'sample_submission.csv')"
      ],
      "execution_count": null,
      "outputs": []
    },
    {
      "cell_type": "code",
      "metadata": {
        "id": "NtYFO6MvzU0Q"
      },
      "source": [
        "train = train.query(\"signal_to_noise >= 1\")"
      ],
      "execution_count": null,
      "outputs": []
    },
    {
      "cell_type": "code",
      "metadata": {
        "id": "DYc1QsGszIbb"
      },
      "source": [
        "def pandas_list_to_array(df):\n",
        "    \"\"\"\n",
        "    Input: dataframe of shape (x, y), containing list of length l\n",
        "    Return: np.array of shape (x, l, y)\n",
        "    \"\"\"\n",
        "    \n",
        "    return np.transpose(\n",
        "        np.array(df.values.tolist()),\n",
        "        (0, 2, 1)\n",
        "    )"
      ],
      "execution_count": null,
      "outputs": []
    },
    {
      "cell_type": "code",
      "metadata": {
        "id": "04fD7WtTzJsw"
      },
      "source": [
        "def preprocess_inputs(df, token2int, cols=[\"sequence\", \"structure\", \"predicted_loop_type\"]):\n",
        "    return pandas_list_to_array(\n",
        "        df[cols].applymap(lambda seq: [token2int[x] for x in seq])\n",
        "    )"
      ],
      "execution_count": null,
      "outputs": []
    },
    {
      "cell_type": "code",
      "metadata": {
        "id": "FZAuzrfkzYFG"
      },
      "source": [
        "# Map each character to an integer\n",
        "token2int = {x:i for i, x in enumerate('().ACGUBEHIMSX')}\n",
        "\n",
        "train_labels = pandas_list_to_array(train[pred_cols])\n",
        "train_inputs = preprocess_inputs(train, token2int)"
      ],
      "execution_count": null,
      "outputs": []
    },
    {
      "cell_type": "code",
      "metadata": {
        "id": "EuejMgtYzaSB"
      },
      "source": [
        "x_train, x_val, y_train, y_val = train_test_split(\n",
        "    train_inputs, train_labels, test_size=.1, random_state=34, stratify=train.SN_filter)"
      ],
      "execution_count": null,
      "outputs": []
    },
    {
      "cell_type": "code",
      "metadata": {
        "id": "uO6MVWoczbTF"
      },
      "source": [
        "public_df = test.query(\"seq_length == 107\")\n",
        "private_df = test.query(\"seq_length == 130\")\n",
        "\n",
        "public_inputs = preprocess_inputs(public_df, token2int)\n",
        "private_inputs = preprocess_inputs(private_df, token2int)"
      ],
      "execution_count": null,
      "outputs": []
    },
    {
      "cell_type": "markdown",
      "metadata": {
        "id": "xL62-G_mzhoB"
      },
      "source": [
        "## Build and train model\n",
        "We will train a bi-directional GRU model. It has three layer and has dropout. To learn more about RNNs, LSTM and GRU, please see this blog post."
      ]
    },
    {
      "cell_type": "code",
      "metadata": {
        "id": "KEAdS0yCR5z3"
      },
      "source": [
        "def MCRMSE(y_true, y_pred):\n",
        "    column_mse = tf.reduce_mean(tf.square(y_true - y_pred), axis=1)\n",
        "    return tf.reduce_mean(tf.sqrt(column_mse), axis=1)"
      ],
      "execution_count": null,
      "outputs": []
    },
    {
      "cell_type": "code",
      "metadata": {
        "id": "yM2k5kghO-K6"
      },
      "source": [
        "def lstm_layer(hidden_dim, dropout):\n",
        "    return L.Bidirectional(L.LSTM(\n",
        "        hidden_dim, dropout=dropout, return_sequences=True, kernel_initializer='orthogonal'))"
      ],
      "execution_count": null,
      "outputs": []
    },
    {
      "cell_type": "code",
      "metadata": {
        "id": "CsPiSm0AzGDo"
      },
      "source": [
        "def build_model(embed_size, seq_len=107, pred_len=68, dropout=0.5, \n",
        "                sp_dropout=0.2, embed_dim=200, hidden_dim=256, n_layers=3):\n",
        "    inputs = L.Input(shape=(seq_len, 3))\n",
        "    embed = L.Embedding(input_dim=embed_size, output_dim=embed_dim)(inputs)\n",
        "    \n",
        "    reshaped = tf.reshape(\n",
        "        embed, shape=(-1, embed.shape[1],  embed.shape[2] * embed.shape[3])\n",
        "    )\n",
        "    hidden = L.SpatialDropout1D(sp_dropout)(reshaped)\n",
        "    \n",
        "    for x in range(n_layers):\n",
        "        hidden = lstm_layer(hidden_dim, dropout)(hidden)\n",
        "    \n",
        "    # Since we are only making predictions on the first part of each sequence, \n",
        "    # we have to truncate it\n",
        "    truncated = hidden[:, :pred_len]\n",
        "    out = L.Dense(5, activation='linear')(truncated)\n",
        "    \n",
        "    model = tf.keras.Model(inputs=inputs, outputs=out)\n",
        "    model.compile(tf.optimizers.Adam(), loss=MCRMSE)\n",
        "    \n",
        "    return model"
      ],
      "execution_count": null,
      "outputs": []
    },
    {
      "cell_type": "code",
      "metadata": {
        "colab": {
          "base_uri": "https://localhost:8080/"
        },
        "id": "ISq8KY_mzdlw",
        "outputId": "fa57be0a-7b8a-4e9d-9b02-089c9077deeb"
      },
      "source": [
        "model = build_model(embed_size=len(token2int))\n",
        "model.summary()"
      ],
      "execution_count": null,
      "outputs": [
        {
          "output_type": "stream",
          "text": [
            "Model: \"functional_1\"\n",
            "_________________________________________________________________\n",
            "Layer (type)                 Output Shape              Param #   \n",
            "=================================================================\n",
            "input_1 (InputLayer)         [(None, 107, 3)]          0         \n",
            "_________________________________________________________________\n",
            "embedding (Embedding)        (None, 107, 3, 200)       2800      \n",
            "_________________________________________________________________\n",
            "tf_op_layer_Reshape (TensorF [(None, 107, 600)]        0         \n",
            "_________________________________________________________________\n",
            "spatial_dropout1d (SpatialDr (None, 107, 600)          0         \n",
            "_________________________________________________________________\n",
            "bidirectional (Bidirectional (None, 107, 512)          1755136   \n",
            "_________________________________________________________________\n",
            "bidirectional_1 (Bidirection (None, 107, 512)          1574912   \n",
            "_________________________________________________________________\n",
            "bidirectional_2 (Bidirection (None, 107, 512)          1574912   \n",
            "_________________________________________________________________\n",
            "tf_op_layer_strided_slice (T [(None, 68, 512)]         0         \n",
            "_________________________________________________________________\n",
            "dense (Dense)                (None, 68, 5)             2565      \n",
            "=================================================================\n",
            "Total params: 4,910,325\n",
            "Trainable params: 4,910,325\n",
            "Non-trainable params: 0\n",
            "_________________________________________________________________\n"
          ],
          "name": "stdout"
        }
      ]
    },
    {
      "cell_type": "code",
      "metadata": {
        "colab": {
          "background_save": true,
          "base_uri": "https://localhost:8080/"
        },
        "id": "uJd5-y3Jzqrd",
        "outputId": "d6e02952-104d-461f-b5c2-ade096ee9595"
      },
      "source": [
        "history = model.fit(\n",
        "    x_train, y_train,\n",
        "    validation_data=(x_val, y_val),\n",
        "    batch_size=64,\n",
        "    epochs=80, # TODO: Up this number to 80\n",
        "    verbose=2,\n",
        "    callbacks=[\n",
        "        tf.keras.callbacks.ReduceLROnPlateau(patience=5),\n",
        "        tf.keras.callbacks.ModelCheckpoint('model.h5')\n",
        "    ]\n",
        ")"
      ],
      "execution_count": null,
      "outputs": [
        {
          "output_type": "stream",
          "text": [
            "Epoch 1/80\n",
            "30/30 - 219s - loss: 0.5151 - val_loss: 0.4171\n",
            "Epoch 2/80\n",
            "30/30 - 212s - loss: 0.4046 - val_loss: 0.3764\n",
            "Epoch 3/80\n",
            "30/30 - 211s - loss: 0.3823 - val_loss: 0.3632\n",
            "Epoch 4/80\n",
            "30/30 - 221s - loss: 0.3661 - val_loss: 0.3435\n",
            "Epoch 5/80\n",
            "30/30 - 217s - loss: 0.3511 - val_loss: 0.3347\n",
            "Epoch 6/80\n",
            "30/30 - 215s - loss: 0.3410 - val_loss: 0.3269\n",
            "Epoch 7/80\n",
            "30/30 - 215s - loss: 0.3336 - val_loss: 0.3208\n",
            "Epoch 8/80\n",
            "30/30 - 215s - loss: 0.3266 - val_loss: 0.3158\n",
            "Epoch 9/80\n",
            "30/30 - 215s - loss: 0.3207 - val_loss: 0.3040\n",
            "Epoch 10/80\n",
            "30/30 - 214s - loss: 0.3104 - val_loss: 0.2960\n",
            "Epoch 11/80\n",
            "30/30 - 221s - loss: 0.3053 - val_loss: 0.2911\n",
            "Epoch 12/80\n",
            "30/30 - 215s - loss: 0.2987 - val_loss: 0.2854\n",
            "Epoch 13/80\n",
            "30/30 - 217s - loss: 0.2913 - val_loss: 0.2803\n",
            "Epoch 14/80\n",
            "30/30 - 220s - loss: 0.2853 - val_loss: 0.2704\n",
            "Epoch 15/80\n",
            "30/30 - 216s - loss: 0.2764 - val_loss: 0.2641\n",
            "Epoch 16/80\n",
            "30/30 - 214s - loss: 0.2688 - val_loss: 0.2589\n",
            "Epoch 17/80\n",
            "30/30 - 213s - loss: 0.2643 - val_loss: 0.2603\n",
            "Epoch 18/80\n",
            "30/30 - 211s - loss: 0.2591 - val_loss: 0.2538\n",
            "Epoch 19/80\n",
            "30/30 - 213s - loss: 0.2554 - val_loss: 0.2497\n",
            "Epoch 20/80\n",
            "30/30 - 212s - loss: 0.2505 - val_loss: 0.2455\n",
            "Epoch 21/80\n",
            "30/30 - 216s - loss: 0.2472 - val_loss: 0.2447\n",
            "Epoch 22/80\n",
            "30/30 - 214s - loss: 0.2427 - val_loss: 0.2421\n",
            "Epoch 23/80\n",
            "30/30 - 216s - loss: 0.2393 - val_loss: 0.2412\n",
            "Epoch 24/80\n",
            "30/30 - 215s - loss: 0.2357 - val_loss: 0.2375\n",
            "Epoch 25/80\n",
            "30/30 - 219s - loss: 0.2338 - val_loss: 0.2394\n",
            "Epoch 26/80\n",
            "30/30 - 222s - loss: 0.2315 - val_loss: 0.2374\n",
            "Epoch 27/80\n",
            "30/30 - 219s - loss: 0.2282 - val_loss: 0.2342\n",
            "Epoch 28/80\n",
            "30/30 - 219s - loss: 0.2247 - val_loss: 0.2362\n",
            "Epoch 29/80\n",
            "30/30 - 226s - loss: 0.2222 - val_loss: 0.2342\n",
            "Epoch 30/80\n",
            "30/30 - 217s - loss: 0.2198 - val_loss: 0.2336\n",
            "Epoch 31/80\n",
            "30/30 - 213s - loss: 0.2172 - val_loss: 0.2357\n",
            "Epoch 32/80\n",
            "30/30 - 221s - loss: 0.2147 - val_loss: 0.2310\n",
            "Epoch 33/80\n",
            "30/30 - 220s - loss: 0.2124 - val_loss: 0.2299\n",
            "Epoch 34/80\n",
            "30/30 - 219s - loss: 0.2104 - val_loss: 0.2284\n",
            "Epoch 35/80\n",
            "30/30 - 217s - loss: 0.2088 - val_loss: 0.2301\n",
            "Epoch 36/80\n",
            "30/30 - 216s - loss: 0.2061 - val_loss: 0.2302\n",
            "Epoch 37/80\n",
            "30/30 - 221s - loss: 0.2058 - val_loss: 0.2283\n",
            "Epoch 38/80\n",
            "30/30 - 215s - loss: 0.2029 - val_loss: 0.2263\n",
            "Epoch 39/80\n",
            "30/30 - 213s - loss: 0.2009 - val_loss: 0.2270\n",
            "Epoch 40/80\n",
            "30/30 - 213s - loss: 0.1985 - val_loss: 0.2270\n",
            "Epoch 41/80\n",
            "30/30 - 214s - loss: 0.1966 - val_loss: 0.2274\n",
            "Epoch 42/80\n",
            "30/30 - 214s - loss: 0.1949 - val_loss: 0.2284\n",
            "Epoch 43/80\n",
            "30/30 - 212s - loss: 0.1939 - val_loss: 0.2287\n",
            "Epoch 44/80\n",
            "30/30 - 211s - loss: 0.1891 - val_loss: 0.2240\n",
            "Epoch 45/80\n",
            "30/30 - 212s - loss: 0.1864 - val_loss: 0.2235\n",
            "Epoch 46/80\n",
            "30/30 - 214s - loss: 0.1856 - val_loss: 0.2232\n",
            "Epoch 47/80\n",
            "30/30 - 215s - loss: 0.1849 - val_loss: 0.2234\n",
            "Epoch 48/80\n",
            "30/30 - 212s - loss: 0.1841 - val_loss: 0.2230\n",
            "Epoch 49/80\n",
            "30/30 - 219s - loss: 0.1838 - val_loss: 0.2236\n",
            "Epoch 50/80\n",
            "30/30 - 216s - loss: 0.1836 - val_loss: 0.2233\n",
            "Epoch 51/80\n",
            "30/30 - 216s - loss: 0.1830 - val_loss: 0.2232\n",
            "Epoch 52/80\n",
            "30/30 - 218s - loss: 0.1828 - val_loss: 0.2228\n",
            "Epoch 53/80\n",
            "30/30 - 214s - loss: 0.1824 - val_loss: 0.2232\n",
            "Epoch 54/80\n",
            "30/30 - 215s - loss: 0.1822 - val_loss: 0.2228\n",
            "Epoch 55/80\n",
            "30/30 - 221s - loss: 0.1817 - val_loss: 0.2229\n",
            "Epoch 56/80\n",
            "30/30 - 215s - loss: 0.1819 - val_loss: 0.2231\n",
            "Epoch 57/80\n",
            "30/30 - 215s - loss: 0.1815 - val_loss: 0.2231\n",
            "Epoch 58/80\n",
            "30/30 - 213s - loss: 0.1808 - val_loss: 0.2229\n",
            "Epoch 59/80\n",
            "30/30 - 217s - loss: 0.1807 - val_loss: 0.2230\n",
            "Epoch 60/80\n",
            "30/30 - 215s - loss: 0.1808 - val_loss: 0.2228\n",
            "Epoch 61/80\n",
            "30/30 - 214s - loss: 0.1808 - val_loss: 0.2229\n",
            "Epoch 62/80\n",
            "30/30 - 215s - loss: 0.1805 - val_loss: 0.2230\n",
            "Epoch 63/80\n",
            "30/30 - 221s - loss: 0.1804 - val_loss: 0.2230\n",
            "Epoch 64/80\n",
            "30/30 - 221s - loss: 0.1808 - val_loss: 0.2229\n",
            "Epoch 65/80\n",
            "30/30 - 226s - loss: 0.1805 - val_loss: 0.2229\n",
            "Epoch 66/80\n",
            "30/30 - 224s - loss: 0.1804 - val_loss: 0.2229\n",
            "Epoch 67/80\n",
            "30/30 - 224s - loss: 0.1803 - val_loss: 0.2229\n",
            "Epoch 68/80\n",
            "30/30 - 225s - loss: 0.1804 - val_loss: 0.2229\n",
            "Epoch 69/80\n",
            "30/30 - 220s - loss: 0.1806 - val_loss: 0.2229\n",
            "Epoch 70/80\n",
            "30/30 - 218s - loss: 0.1806 - val_loss: 0.2229\n",
            "Epoch 71/80\n",
            "30/30 - 220s - loss: 0.1804 - val_loss: 0.2229\n",
            "Epoch 72/80\n",
            "30/30 - 221s - loss: 0.1802 - val_loss: 0.2229\n",
            "Epoch 73/80\n",
            "30/30 - 226s - loss: 0.1803 - val_loss: 0.2229\n",
            "Epoch 74/80\n",
            "30/30 - 224s - loss: 0.1802 - val_loss: 0.2229\n",
            "Epoch 75/80\n",
            "30/30 - 226s - loss: 0.1806 - val_loss: 0.2229\n",
            "Epoch 76/80\n",
            "30/30 - 214s - loss: 0.1806 - val_loss: 0.2229\n",
            "Epoch 77/80\n",
            "30/30 - 213s - loss: 0.1807 - val_loss: 0.2229\n",
            "Epoch 78/80\n",
            "30/30 - 213s - loss: 0.1808 - val_loss: 0.2229\n",
            "Epoch 79/80\n",
            "30/30 - 214s - loss: 0.1805 - val_loss: 0.2229\n",
            "Epoch 80/80\n",
            "30/30 - 214s - loss: 0.1804 - val_loss: 0.2229\n"
          ],
          "name": "stdout"
        }
      ]
    },
    {
      "cell_type": "code",
      "metadata": {
        "colab": {
          "background_save": true
        },
        "id": "S02IN7yVaCyQ",
        "outputId": "39d581c4-e8ae-4bac-d3ac-1a6e7fd58c05"
      },
      "source": [
        "fig = px.line(\n",
        "    history.history, y=['loss', 'val_loss'],\n",
        "    labels={'index': 'epoch', 'value': 'MCRMSE'}, \n",
        "    title='Training History')\n",
        "fig.show()"
      ],
      "execution_count": null,
      "outputs": [
        {
          "output_type": "display_data",
          "data": {
            "text/html": [
              "<html>\n",
              "<head><meta charset=\"utf-8\" /></head>\n",
              "<body>\n",
              "    <div>\n",
              "            <script src=\"https://cdnjs.cloudflare.com/ajax/libs/mathjax/2.7.5/MathJax.js?config=TeX-AMS-MML_SVG\"></script><script type=\"text/javascript\">if (window.MathJax) {MathJax.Hub.Config({SVG: {font: \"STIX-Web\"}});}</script>\n",
              "                <script type=\"text/javascript\">window.PlotlyConfig = {MathJaxConfig: 'local'};</script>\n",
              "        <script src=\"https://cdn.plot.ly/plotly-latest.min.js\"></script>    \n",
              "            <div id=\"400871b8-5cf4-43ad-8442-6bf7739f9912\" class=\"plotly-graph-div\" style=\"height:525px; width:100%;\"></div>\n",
              "            <script type=\"text/javascript\">\n",
              "                \n",
              "                    window.PLOTLYENV=window.PLOTLYENV || {};\n",
              "                    \n",
              "                if (document.getElementById(\"400871b8-5cf4-43ad-8442-6bf7739f9912\")) {\n",
              "                    Plotly.newPlot(\n",
              "                        '400871b8-5cf4-43ad-8442-6bf7739f9912',\n",
              "                        [{\"hoverlabel\": {\"namelength\": 0}, \"hovertemplate\": \"y=%{y}\", \"legendgroup\": \"\", \"line\": {\"color\": \"#636efa\", \"dash\": \"solid\"}, \"mode\": \"lines\", \"name\": \"\", \"showlegend\": false, \"type\": \"scatter\", \"xaxis\": \"x\", \"y\": [\"loss\", \"val_loss\"], \"yaxis\": \"y\"}],\n",
              "                        {\"legend\": {\"tracegroupgap\": 0}, \"template\": {\"data\": {\"bar\": [{\"error_x\": {\"color\": \"#2a3f5f\"}, \"error_y\": {\"color\": \"#2a3f5f\"}, \"marker\": {\"line\": {\"color\": \"#E5ECF6\", \"width\": 0.5}}, \"type\": \"bar\"}], \"barpolar\": [{\"marker\": {\"line\": {\"color\": \"#E5ECF6\", \"width\": 0.5}}, \"type\": \"barpolar\"}], \"carpet\": [{\"aaxis\": {\"endlinecolor\": \"#2a3f5f\", \"gridcolor\": \"white\", \"linecolor\": \"white\", \"minorgridcolor\": \"white\", \"startlinecolor\": \"#2a3f5f\"}, \"baxis\": {\"endlinecolor\": \"#2a3f5f\", \"gridcolor\": \"white\", \"linecolor\": \"white\", \"minorgridcolor\": \"white\", \"startlinecolor\": \"#2a3f5f\"}, \"type\": \"carpet\"}], \"choropleth\": [{\"colorbar\": {\"outlinewidth\": 0, \"ticks\": \"\"}, \"type\": \"choropleth\"}], \"contour\": [{\"colorbar\": {\"outlinewidth\": 0, \"ticks\": \"\"}, \"colorscale\": [[0.0, \"#0d0887\"], [0.1111111111111111, \"#46039f\"], [0.2222222222222222, \"#7201a8\"], [0.3333333333333333, \"#9c179e\"], [0.4444444444444444, \"#bd3786\"], [0.5555555555555556, \"#d8576b\"], [0.6666666666666666, \"#ed7953\"], [0.7777777777777778, \"#fb9f3a\"], [0.8888888888888888, \"#fdca26\"], [1.0, \"#f0f921\"]], \"type\": \"contour\"}], \"contourcarpet\": [{\"colorbar\": {\"outlinewidth\": 0, \"ticks\": \"\"}, \"type\": \"contourcarpet\"}], \"heatmap\": [{\"colorbar\": {\"outlinewidth\": 0, \"ticks\": \"\"}, \"colorscale\": [[0.0, \"#0d0887\"], [0.1111111111111111, \"#46039f\"], [0.2222222222222222, \"#7201a8\"], [0.3333333333333333, \"#9c179e\"], [0.4444444444444444, \"#bd3786\"], [0.5555555555555556, \"#d8576b\"], [0.6666666666666666, \"#ed7953\"], [0.7777777777777778, \"#fb9f3a\"], [0.8888888888888888, \"#fdca26\"], [1.0, \"#f0f921\"]], \"type\": \"heatmap\"}], \"heatmapgl\": [{\"colorbar\": {\"outlinewidth\": 0, \"ticks\": \"\"}, \"colorscale\": [[0.0, \"#0d0887\"], [0.1111111111111111, \"#46039f\"], [0.2222222222222222, \"#7201a8\"], [0.3333333333333333, \"#9c179e\"], [0.4444444444444444, \"#bd3786\"], [0.5555555555555556, \"#d8576b\"], [0.6666666666666666, \"#ed7953\"], [0.7777777777777778, \"#fb9f3a\"], [0.8888888888888888, \"#fdca26\"], [1.0, \"#f0f921\"]], \"type\": \"heatmapgl\"}], \"histogram\": [{\"marker\": {\"colorbar\": {\"outlinewidth\": 0, \"ticks\": \"\"}}, \"type\": \"histogram\"}], \"histogram2d\": [{\"colorbar\": {\"outlinewidth\": 0, \"ticks\": \"\"}, \"colorscale\": [[0.0, \"#0d0887\"], [0.1111111111111111, \"#46039f\"], [0.2222222222222222, \"#7201a8\"], [0.3333333333333333, \"#9c179e\"], [0.4444444444444444, \"#bd3786\"], [0.5555555555555556, \"#d8576b\"], [0.6666666666666666, \"#ed7953\"], [0.7777777777777778, \"#fb9f3a\"], [0.8888888888888888, \"#fdca26\"], [1.0, \"#f0f921\"]], \"type\": \"histogram2d\"}], \"histogram2dcontour\": [{\"colorbar\": {\"outlinewidth\": 0, \"ticks\": \"\"}, \"colorscale\": [[0.0, \"#0d0887\"], [0.1111111111111111, \"#46039f\"], [0.2222222222222222, \"#7201a8\"], [0.3333333333333333, \"#9c179e\"], [0.4444444444444444, \"#bd3786\"], [0.5555555555555556, \"#d8576b\"], [0.6666666666666666, \"#ed7953\"], [0.7777777777777778, \"#fb9f3a\"], [0.8888888888888888, \"#fdca26\"], [1.0, \"#f0f921\"]], \"type\": \"histogram2dcontour\"}], \"mesh3d\": [{\"colorbar\": {\"outlinewidth\": 0, \"ticks\": \"\"}, \"type\": \"mesh3d\"}], \"parcoords\": [{\"line\": {\"colorbar\": {\"outlinewidth\": 0, \"ticks\": \"\"}}, \"type\": \"parcoords\"}], \"pie\": [{\"automargin\": true, \"type\": \"pie\"}], \"scatter\": [{\"marker\": {\"colorbar\": {\"outlinewidth\": 0, \"ticks\": \"\"}}, \"type\": \"scatter\"}], \"scatter3d\": [{\"line\": {\"colorbar\": {\"outlinewidth\": 0, \"ticks\": \"\"}}, \"marker\": {\"colorbar\": {\"outlinewidth\": 0, \"ticks\": \"\"}}, \"type\": \"scatter3d\"}], \"scattercarpet\": [{\"marker\": {\"colorbar\": {\"outlinewidth\": 0, \"ticks\": \"\"}}, \"type\": \"scattercarpet\"}], \"scattergeo\": [{\"marker\": {\"colorbar\": {\"outlinewidth\": 0, \"ticks\": \"\"}}, \"type\": \"scattergeo\"}], \"scattergl\": [{\"marker\": {\"colorbar\": {\"outlinewidth\": 0, \"ticks\": \"\"}}, \"type\": \"scattergl\"}], \"scattermapbox\": [{\"marker\": {\"colorbar\": {\"outlinewidth\": 0, \"ticks\": \"\"}}, \"type\": \"scattermapbox\"}], \"scatterpolar\": [{\"marker\": {\"colorbar\": {\"outlinewidth\": 0, \"ticks\": \"\"}}, \"type\": \"scatterpolar\"}], \"scatterpolargl\": [{\"marker\": {\"colorbar\": {\"outlinewidth\": 0, \"ticks\": \"\"}}, \"type\": \"scatterpolargl\"}], \"scatterternary\": [{\"marker\": {\"colorbar\": {\"outlinewidth\": 0, \"ticks\": \"\"}}, \"type\": \"scatterternary\"}], \"surface\": [{\"colorbar\": {\"outlinewidth\": 0, \"ticks\": \"\"}, \"colorscale\": [[0.0, \"#0d0887\"], [0.1111111111111111, \"#46039f\"], [0.2222222222222222, \"#7201a8\"], [0.3333333333333333, \"#9c179e\"], [0.4444444444444444, \"#bd3786\"], [0.5555555555555556, \"#d8576b\"], [0.6666666666666666, \"#ed7953\"], [0.7777777777777778, \"#fb9f3a\"], [0.8888888888888888, \"#fdca26\"], [1.0, \"#f0f921\"]], \"type\": \"surface\"}], \"table\": [{\"cells\": {\"fill\": {\"color\": \"#EBF0F8\"}, \"line\": {\"color\": \"white\"}}, \"header\": {\"fill\": {\"color\": \"#C8D4E3\"}, \"line\": {\"color\": \"white\"}}, \"type\": \"table\"}]}, \"layout\": {\"annotationdefaults\": {\"arrowcolor\": \"#2a3f5f\", \"arrowhead\": 0, \"arrowwidth\": 1}, \"coloraxis\": {\"colorbar\": {\"outlinewidth\": 0, \"ticks\": \"\"}}, \"colorscale\": {\"diverging\": [[0, \"#8e0152\"], [0.1, \"#c51b7d\"], [0.2, \"#de77ae\"], [0.3, \"#f1b6da\"], [0.4, \"#fde0ef\"], [0.5, \"#f7f7f7\"], [0.6, \"#e6f5d0\"], [0.7, \"#b8e186\"], [0.8, \"#7fbc41\"], [0.9, \"#4d9221\"], [1, \"#276419\"]], \"sequential\": [[0.0, \"#0d0887\"], [0.1111111111111111, \"#46039f\"], [0.2222222222222222, \"#7201a8\"], [0.3333333333333333, \"#9c179e\"], [0.4444444444444444, \"#bd3786\"], [0.5555555555555556, \"#d8576b\"], [0.6666666666666666, \"#ed7953\"], [0.7777777777777778, \"#fb9f3a\"], [0.8888888888888888, \"#fdca26\"], [1.0, \"#f0f921\"]], \"sequentialminus\": [[0.0, \"#0d0887\"], [0.1111111111111111, \"#46039f\"], [0.2222222222222222, \"#7201a8\"], [0.3333333333333333, \"#9c179e\"], [0.4444444444444444, \"#bd3786\"], [0.5555555555555556, \"#d8576b\"], [0.6666666666666666, \"#ed7953\"], [0.7777777777777778, \"#fb9f3a\"], [0.8888888888888888, \"#fdca26\"], [1.0, \"#f0f921\"]]}, \"colorway\": [\"#636efa\", \"#EF553B\", \"#00cc96\", \"#ab63fa\", \"#FFA15A\", \"#19d3f3\", \"#FF6692\", \"#B6E880\", \"#FF97FF\", \"#FECB52\"], \"font\": {\"color\": \"#2a3f5f\"}, \"geo\": {\"bgcolor\": \"white\", \"lakecolor\": \"white\", \"landcolor\": \"#E5ECF6\", \"showlakes\": true, \"showland\": true, \"subunitcolor\": \"white\"}, \"hoverlabel\": {\"align\": \"left\"}, \"hovermode\": \"closest\", \"mapbox\": {\"style\": \"light\"}, \"paper_bgcolor\": \"white\", \"plot_bgcolor\": \"#E5ECF6\", \"polar\": {\"angularaxis\": {\"gridcolor\": \"white\", \"linecolor\": \"white\", \"ticks\": \"\"}, \"bgcolor\": \"#E5ECF6\", \"radialaxis\": {\"gridcolor\": \"white\", \"linecolor\": \"white\", \"ticks\": \"\"}}, \"scene\": {\"xaxis\": {\"backgroundcolor\": \"#E5ECF6\", \"gridcolor\": \"white\", \"gridwidth\": 2, \"linecolor\": \"white\", \"showbackground\": true, \"ticks\": \"\", \"zerolinecolor\": \"white\"}, \"yaxis\": {\"backgroundcolor\": \"#E5ECF6\", \"gridcolor\": \"white\", \"gridwidth\": 2, \"linecolor\": \"white\", \"showbackground\": true, \"ticks\": \"\", \"zerolinecolor\": \"white\"}, \"zaxis\": {\"backgroundcolor\": \"#E5ECF6\", \"gridcolor\": \"white\", \"gridwidth\": 2, \"linecolor\": \"white\", \"showbackground\": true, \"ticks\": \"\", \"zerolinecolor\": \"white\"}}, \"shapedefaults\": {\"line\": {\"color\": \"#2a3f5f\"}}, \"ternary\": {\"aaxis\": {\"gridcolor\": \"white\", \"linecolor\": \"white\", \"ticks\": \"\"}, \"baxis\": {\"gridcolor\": \"white\", \"linecolor\": \"white\", \"ticks\": \"\"}, \"bgcolor\": \"#E5ECF6\", \"caxis\": {\"gridcolor\": \"white\", \"linecolor\": \"white\", \"ticks\": \"\"}}, \"title\": {\"x\": 0.05}, \"xaxis\": {\"automargin\": true, \"gridcolor\": \"white\", \"linecolor\": \"white\", \"ticks\": \"\", \"title\": {\"standoff\": 15}, \"zerolinecolor\": \"white\", \"zerolinewidth\": 2}, \"yaxis\": {\"automargin\": true, \"gridcolor\": \"white\", \"linecolor\": \"white\", \"ticks\": \"\", \"title\": {\"standoff\": 15}, \"zerolinecolor\": \"white\", \"zerolinewidth\": 2}}}, \"title\": {\"text\": \"Training History\"}, \"xaxis\": {\"anchor\": \"y\", \"domain\": [0.0, 1.0]}, \"yaxis\": {\"anchor\": \"x\", \"domain\": [0.0, 1.0], \"title\": {\"text\": \"y\"}}},\n",
              "                        {\"responsive\": true}\n",
              "                    ).then(function(){\n",
              "                            \n",
              "var gd = document.getElementById('400871b8-5cf4-43ad-8442-6bf7739f9912');\n",
              "var x = new MutationObserver(function (mutations, observer) {{\n",
              "        var display = window.getComputedStyle(gd).display;\n",
              "        if (!display || display === 'none') {{\n",
              "            console.log([gd, 'removed!']);\n",
              "            Plotly.purge(gd);\n",
              "            observer.disconnect();\n",
              "        }}\n",
              "}});\n",
              "\n",
              "// Listen for the removal of the full notebook cells\n",
              "var notebookContainer = gd.closest('#notebook-container');\n",
              "if (notebookContainer) {{\n",
              "    x.observe(notebookContainer, {childList: true});\n",
              "}}\n",
              "\n",
              "// Listen for the clearing of the current output cell\n",
              "var outputEl = gd.closest('.output');\n",
              "if (outputEl) {{\n",
              "    x.observe(outputEl, {childList: true});\n",
              "}}\n",
              "\n",
              "                        })\n",
              "                };\n",
              "                \n",
              "            </script>\n",
              "        </div>\n",
              "</body>\n",
              "</html>"
            ]
          },
          "metadata": {
            "tags": []
          }
        }
      ]
    },
    {
      "cell_type": "markdown",
      "metadata": {
        "id": "PWYXZxttzz9f"
      },
      "source": [
        "## Load models and make predictions\n",
        "Public and private sets have different sequence lengths, so we will preprocess them separately and load models of different tensor shapes. This is possible because RNN models can accept sequences of varying lengths as inputs."
      ]
    },
    {
      "cell_type": "code",
      "metadata": {
        "colab": {
          "background_save": true
        },
        "id": "B9fXikmbz3Qw"
      },
      "source": [
        "# Caveat: The prediction format requires the output to be the same length as the input,\n",
        "# although it's not the case for the training data.\n",
        "model_public = build_model(seq_len=107, pred_len=107, embed_size=len(token2int))\n",
        "model_private = build_model(seq_len=130, pred_len=130, embed_size=len(token2int))\n",
        "\n",
        "model_public.load_weights('model.h5')\n",
        "model_private.load_weights('model.h5')"
      ],
      "execution_count": null,
      "outputs": []
    },
    {
      "cell_type": "code",
      "metadata": {
        "id": "V_YDx6bAz5tE"
      },
      "source": [
        "public_preds = model_public.predict(public_inputs)\n",
        "private_preds = model_private.predict(private_inputs)"
      ],
      "execution_count": null,
      "outputs": []
    },
    {
      "cell_type": "markdown",
      "metadata": {
        "id": "63j-voU5z792"
      },
      "source": [
        "## Post-processing and submit\n",
        "For each sample, we take the predicted tensors of shape (107, 5) or (130, 5), and convert them to the long format (i.e.  629×107,5  or  3005×130,5):"
      ]
    },
    {
      "cell_type": "code",
      "metadata": {
        "colab": {
          "background_save": true
        },
        "id": "9sakIzmaz_uP",
        "outputId": "a82b612f-4bd0-4495-fc66-adc67bd85474"
      },
      "source": [
        "preds_ls = []\n",
        "\n",
        "for df, preds in [(public_df, public_preds), (private_df, private_preds)]:\n",
        "    for i, uid in enumerate(df.id):\n",
        "        single_pred = preds[i]\n",
        "\n",
        "        single_df = pd.DataFrame(single_pred, columns=pred_cols)\n",
        "        single_df['id_seqpos'] = [f'{uid}_{x}' for x in range(single_df.shape[0])]\n",
        "\n",
        "        preds_ls.append(single_df)\n",
        "\n",
        "preds_df = pd.concat(preds_ls)\n",
        "preds_df.head()"
      ],
      "execution_count": null,
      "outputs": [
        {
          "output_type": "execute_result",
          "data": {
            "text/html": [
              "<div>\n",
              "<style scoped>\n",
              "    .dataframe tbody tr th:only-of-type {\n",
              "        vertical-align: middle;\n",
              "    }\n",
              "\n",
              "    .dataframe tbody tr th {\n",
              "        vertical-align: top;\n",
              "    }\n",
              "\n",
              "    .dataframe thead th {\n",
              "        text-align: right;\n",
              "    }\n",
              "</style>\n",
              "<table border=\"1\" class=\"dataframe\">\n",
              "  <thead>\n",
              "    <tr style=\"text-align: right;\">\n",
              "      <th></th>\n",
              "      <th>reactivity</th>\n",
              "      <th>deg_Mg_pH10</th>\n",
              "      <th>deg_Mg_50C</th>\n",
              "      <th>deg_pH10</th>\n",
              "      <th>deg_50C</th>\n",
              "      <th>id_seqpos</th>\n",
              "    </tr>\n",
              "  </thead>\n",
              "  <tbody>\n",
              "    <tr>\n",
              "      <th>0</th>\n",
              "      <td>0.673217</td>\n",
              "      <td>0.653089</td>\n",
              "      <td>0.511145</td>\n",
              "      <td>2.026246</td>\n",
              "      <td>0.749455</td>\n",
              "      <td>id_00073f8be_0</td>\n",
              "    </tr>\n",
              "    <tr>\n",
              "      <th>1</th>\n",
              "      <td>1.967305</td>\n",
              "      <td>2.758735</td>\n",
              "      <td>2.942523</td>\n",
              "      <td>3.896030</td>\n",
              "      <td>2.698194</td>\n",
              "      <td>id_00073f8be_1</td>\n",
              "    </tr>\n",
              "    <tr>\n",
              "      <th>2</th>\n",
              "      <td>1.375278</td>\n",
              "      <td>0.553981</td>\n",
              "      <td>0.659123</td>\n",
              "      <td>0.651248</td>\n",
              "      <td>0.662396</td>\n",
              "      <td>id_00073f8be_2</td>\n",
              "    </tr>\n",
              "    <tr>\n",
              "      <th>3</th>\n",
              "      <td>1.215842</td>\n",
              "      <td>1.120134</td>\n",
              "      <td>1.583379</td>\n",
              "      <td>1.181685</td>\n",
              "      <td>1.647009</td>\n",
              "      <td>id_00073f8be_3</td>\n",
              "    </tr>\n",
              "    <tr>\n",
              "      <th>4</th>\n",
              "      <td>0.852111</td>\n",
              "      <td>0.659991</td>\n",
              "      <td>0.877378</td>\n",
              "      <td>0.589644</td>\n",
              "      <td>0.921785</td>\n",
              "      <td>id_00073f8be_4</td>\n",
              "    </tr>\n",
              "  </tbody>\n",
              "</table>\n",
              "</div>"
            ],
            "text/plain": [
              "   reactivity  deg_Mg_pH10  deg_Mg_50C  deg_pH10   deg_50C       id_seqpos\n",
              "0    0.673217     0.653089    0.511145  2.026246  0.749455  id_00073f8be_0\n",
              "1    1.967305     2.758735    2.942523  3.896030  2.698194  id_00073f8be_1\n",
              "2    1.375278     0.553981    0.659123  0.651248  0.662396  id_00073f8be_2\n",
              "3    1.215842     1.120134    1.583379  1.181685  1.647009  id_00073f8be_3\n",
              "4    0.852111     0.659991    0.877378  0.589644  0.921785  id_00073f8be_4"
            ]
          },
          "metadata": {
            "tags": []
          },
          "execution_count": 0
        }
      ]
    },
    {
      "cell_type": "code",
      "metadata": {
        "id": "MHkmrcS10EgV"
      },
      "source": [
        "submission = sample_df[['id_seqpos']].merge(preds_df, on=['id_seqpos'])\n",
        "submission.to_csv('submission.csv', index=False) "
      ],
      "execution_count": null,
      "outputs": []
    }
  ]
}