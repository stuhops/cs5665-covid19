{
  "nbformat": 4,
  "nbformat_minor": 0,
  "metadata": {
    "colab": {
      "name": "open-vaccine-covid19.ipynb",
      "provenance": [],
      "collapsed_sections": [
        "vAEnazC90QsC"
      ],
      "toc_visible": true
    },
    "kernelspec": {
      "name": "python3",
      "display_name": "Python 3"
    }
  },
  "cells": [
    {
      "cell_type": "markdown",
      "metadata": {
        "id": "2oKvowzGezIe"
      },
      "source": [
        "# Covid-19 Open Vaccine\n",
        "\n",
        "**Name: Stuart Hopkins**\n",
        "\n",
        "**A-Number: A02080107**\n"
      ]
    },
    {
      "cell_type": "markdown",
      "metadata": {
        "id": "tUNOJ4InTRt3"
      },
      "source": [
        "## Introduction\n",
        "Winning the fight against the COVID-19 pandemic will require an effective vaccine that can be equitably and widely distributed. Building upon decades of research has allowed scientists to accelerate the search for a vaccine against COVID-19, but every day that goes by without a vaccine has enormous costs for the world nonetheless. We need new, fresh ideas from all corners of the world. Could online gaming and crowdsourcing help solve a worldwide pandemic? Pairing scientific and crowdsourced intelligence could help computational biochemists make measurable progress.\n",
        "\n",
        "mRNA vaccines have taken the lead as the fastest vaccine candidates for COVID-19, but currently, they face key potential limitations. One of the biggest challenges right now is how to design super stable messenger RNA molecules (mRNA). Conventional vaccines (like your seasonal flu shots) are packaged in disposable syringes and shipped under refrigeration around the world, but that is not currently possible for mRNA vaccines.\n",
        "\n",
        "Researchers have observed that RNA molecules have the tendency to spontaneously degrade. This is a serious limitation--a single cut can render the mRNA vaccine useless. Currently, little is known on the details of where in the backbone of a given RNA is most prone to being affected. Without this knowledge, current mRNA vaccines against COVID-19 must be prepared and shipped under intense refrigeration, and are unlikely to reach more than a tiny fraction of human beings on the planet unless they can be stabilized.\n",
        "\n",
        "\n",
        "\n",
        "The Eterna community, led by Professor Rhiju Das, a computational biochemist at Stanford’s School of Medicine, brings together scientists and gamers to solve puzzles and invent medicine. Eterna is an online video game platform that challenges players to solve scientific problems such as mRNA design through puzzles. The solutions are synthesized and experimentally tested at Stanford by researchers to gain new insights about RNA molecules. The Eterna community has previously unlocked new scientific principles, made new diagnostics against deadly diseases, and engaged the world’s most potent intellectual resources for the betterment of the public. The Eterna community has advanced biotechnology through its contribution in over 20 publications, including advances in RNA biotechnology.\n",
        "\n",
        "In this competition, we are looking to leverage the data science expertise of the Kaggle community to develop models and design rules for RNA degradation. Your model will predict likely degradation rates at each base of an RNA molecule, trained on a subset of an Eterna dataset comprising over 3000 RNA molecules (which span a panoply of sequences and structures) and their degradation rates at each position. We will then score your models on a second generation of RNA sequences that have just been devised by Eterna players for COVID-19 mRNA vaccines. These final test sequences are currently being synthesized and experimentally characterized at Stanford University in parallel to your modeling efforts -- Nature will score your models!\n",
        "\n",
        "Improving the stability of mRNA vaccines was a problem that was being explored before the pandemic but was expected to take many years to solve. Now, we must solve this deep scientific challenge in months, if not weeks, to accelerate mRNA vaccine research and deliver a refrigerator-stable vaccine against SARS-CoV-2, the virus behind COVID-19. The problem we are trying to solve has eluded academic labs, industry R&D groups, and supercomputers, and so we are turning to you. To help, you can join the team of video game players, scientists, and developers at Eterna to unlock the key in our fight against this devastating pandemic."
      ]
    },
    {
      "cell_type": "markdown",
      "metadata": {
        "id": "G8glFuAaUEsP"
      },
      "source": [
        "## Resources\n",
        "Big thanks to @xhlulu for the base to this project. The submission is pulled from many sources (and personal code of course), but is largely based upon the workbook by @xhlulu. "
      ]
    },
    {
      "cell_type": "markdown",
      "metadata": {
        "id": "FKxc87YZdhg7"
      },
      "source": [
        "## Dependancies\n",
        "#### Required Files:\n",
        "All required files can be downloaded <a href=\"https://www.kaggle.com/c/stanford-covid-vaccine/data\">here</a>\n",
        "- input/test.json\n",
        "- input/train.json\n",
        "- input/sample_submission.csv"
      ]
    },
    {
      "cell_type": "code",
      "metadata": {
        "id": "25FSsKkwUaL7"
      },
      "source": [
        "### Uncomment packages that you do not currently have installed to install them\n",
        "# !pip install pandas\n",
        "# !pip install numpy\n",
        "# !pip install plotly\n",
        "# !pip install tensorflow\n",
        "# !pip install sklearn"
      ],
      "execution_count": null,
      "outputs": []
    },
    {
      "cell_type": "code",
      "metadata": {
        "id": "bxE0rpiuxY3P",
        "colab": {
          "base_uri": "https://localhost:8080/",
          "height": 197
        },
        "outputId": "d12d9c16-7414-4035-9626-73867a2701a4"
      },
      "source": [
        "import json\n",
        "\n",
        "import pandas as pd\n",
        "import numpy as np\n",
        "import plotly.express as px\n",
        "import tensorflow.keras.layers as L\n",
        "import tensorflow as tf\n",
        "from sklearn.model_selection import train_test_split\n",
        "\n",
        "device = torch.device(\"cuda\")"
      ],
      "execution_count": null,
      "outputs": [
        {
          "output_type": "error",
          "ename": "NameError",
          "evalue": "ignored",
          "traceback": [
            "\u001b[0;31m---------------------------------------------------------------------------\u001b[0m",
            "\u001b[0;31mNameError\u001b[0m                                 Traceback (most recent call last)",
            "\u001b[0;32m<ipython-input-2-cb616419d6e4>\u001b[0m in \u001b[0;36m<module>\u001b[0;34m()\u001b[0m\n\u001b[1;32m      8\u001b[0m \u001b[0;32mfrom\u001b[0m \u001b[0msklearn\u001b[0m\u001b[0;34m.\u001b[0m\u001b[0mmodel_selection\u001b[0m \u001b[0;32mimport\u001b[0m \u001b[0mtrain_test_split\u001b[0m\u001b[0;34m\u001b[0m\u001b[0;34m\u001b[0m\u001b[0m\n\u001b[1;32m      9\u001b[0m \u001b[0;34m\u001b[0m\u001b[0m\n\u001b[0;32m---> 10\u001b[0;31m \u001b[0mdevice\u001b[0m \u001b[0;34m=\u001b[0m \u001b[0mtorch\u001b[0m\u001b[0;34m.\u001b[0m\u001b[0mdevice\u001b[0m\u001b[0;34m(\u001b[0m\u001b[0;34m\"cuda\"\u001b[0m\u001b[0;34m)\u001b[0m\u001b[0;34m\u001b[0m\u001b[0;34m\u001b[0m\u001b[0m\n\u001b[0m",
            "\u001b[0;31mNameError\u001b[0m: name 'torch' is not defined"
          ]
        }
      ]
    },
    {
      "cell_type": "markdown",
      "metadata": {
        "id": "_fgko5yb0K0o"
      },
      "source": [
        "## Set random seed\n",
        "Here we are setting the seed so that we can get the same random numbers every time.\n",
        "\n",
        "\n",
        "\n"
      ]
    },
    {
      "cell_type": "code",
      "metadata": {
        "id": "ar2fgP8nyxyQ"
      },
      "source": [
        "tf.random.set_seed(42069)\n",
        "np.random.seed(42069)"
      ],
      "execution_count": null,
      "outputs": []
    },
    {
      "cell_type": "markdown",
      "metadata": {
        "id": "rzNAR6unzL6x"
      },
      "source": [
        "## Load and Preprocess Data"
      ]
    },
    {
      "cell_type": "code",
      "metadata": {
        "id": "yya2CPSmNCY7"
      },
      "source": [
        "bs = 32\n",
        "pred_len = 68\n",
        "pred_cols = ['reactivity', 'deg_Mg_pH10', 'deg_Mg_50C', 'deg_pH10', 'deg_50C']"
      ],
      "execution_count": null,
      "outputs": []
    },
    {
      "cell_type": "code",
      "metadata": {
        "id": "Oh9YFntYy9SO"
      },
      "source": [
        "y_true = tf.random.normal((bs, pred_len, len(pred_cols)))\n",
        "y_pred = tf.random.normal((bs, pred_len, len(pred_cols)))"
      ],
      "execution_count": null,
      "outputs": []
    },
    {
      "cell_type": "code",
      "metadata": {
        "id": "Dx-LuzGwzQ3s"
      },
      "source": [
        "data_dir = 'input/'\n",
        "train = pd.read_json(data_dir + 'train.json', lines=True)\n",
        "test = pd.read_json(data_dir + 'test.json', lines=True)\n",
        "sample_df = pd.read_csv(data_dir + 'sample_submission.csv')"
      ],
      "execution_count": null,
      "outputs": []
    },
    {
      "cell_type": "code",
      "metadata": {
        "id": "NtYFO6MvzU0Q"
      },
      "source": [
        "train = train.query(\"signal_to_noise >= 1\")"
      ],
      "execution_count": null,
      "outputs": []
    },
    {
      "cell_type": "code",
      "metadata": {
        "id": "DYc1QsGszIbb"
      },
      "source": [
        "def pandas_list_to_array(df):\n",
        "    \"\"\"\n",
        "    Input: dataframe of shape (x, y), containing list of length l\n",
        "    Return: np.array of shape (x, l, y)\n",
        "    \"\"\"\n",
        "    \n",
        "    return np.transpose(\n",
        "        np.array(df.values.tolist()),\n",
        "        (0, 2, 1)\n",
        "    )"
      ],
      "execution_count": null,
      "outputs": []
    },
    {
      "cell_type": "code",
      "metadata": {
        "id": "04fD7WtTzJsw"
      },
      "source": [
        "def preprocess_inputs(df, tokens_as_ints, cols=[\"sequence\", \"structure\", \"predicted_loop_type\"]):\n",
        "    return pandas_list_to_array(\n",
        "        df[cols].applymap(lambda sequence: [tokens_as_ints[item] for item in sequence])\n",
        "    )"
      ],
      "execution_count": null,
      "outputs": []
    },
    {
      "cell_type": "code",
      "metadata": {
        "id": "FZAuzrfkzYFG"
      },
      "source": [
        "# Map each character to an integer\n",
        "tokens_as_ints = {x:i for i, x in enumerate('().ACGUBEHIMSX')}\n",
        "\n",
        "train_labels = pandas_list_to_array(train[pred_cols])\n",
        "train_inputs = preprocess_inputs(train, tokens_as_ints)"
      ],
      "execution_count": null,
      "outputs": []
    },
    {
      "cell_type": "code",
      "metadata": {
        "id": "EuejMgtYzaSB"
      },
      "source": [
        "x_train, x_val, y_train, y_val = train_test_split(\n",
        "    train_inputs, train_labels, test_size=.1, random_state=34, stratify=train.SN_filter)"
      ],
      "execution_count": null,
      "outputs": []
    },
    {
      "cell_type": "code",
      "metadata": {
        "id": "uO6MVWoczbTF"
      },
      "source": [
        "public_df = test.query(\"seq_length == 107\")\n",
        "private_df = test.query(\"seq_length == 130\")\n",
        "\n",
        "public_inputs = preprocess_inputs(public_df, tokens_as_ints)\n",
        "private_inputs = preprocess_inputs(private_df, tokens_as_ints)"
      ],
      "execution_count": null,
      "outputs": []
    },
    {
      "cell_type": "markdown",
      "metadata": {
        "id": "xL62-G_mzhoB"
      },
      "source": [
        "## Build and train model\n",
        "We will train a bi-directional GRU model. It has three layer and has dropout. To learn more about RNNs, LSTM and GRU, please see this blog post."
      ]
    },
    {
      "cell_type": "code",
      "metadata": {
        "id": "KEAdS0yCR5z3"
      },
      "source": [
        "def MCRMSE(y_true, y_pred):\n",
        "    column_mse = tf.reduce_mean(tf.square(y_true - y_pred), axis=1)\n",
        "    return tf.reduce_mean(tf.sqrt(column_mse), axis=1)"
      ],
      "execution_count": null,
      "outputs": []
    },
    {
      "cell_type": "code",
      "metadata": {
        "id": "WOeiCqIkzDjL"
      },
      "source": [
        "def gru_layer(hidden_dim, dropout):\n",
        "    return L.Bidirectional(L.GRU(\n",
        "        hidden_dim, dropout=dropout, return_sequences=True, kernel_initializer='orthogonal'))"
      ],
      "execution_count": null,
      "outputs": []
    },
    {
      "cell_type": "code",
      "metadata": {
        "id": "CsPiSm0AzGDo"
      },
      "source": [
        "def build_model(embed_size, seq_len=107, pred_len=68, dropout=0.5, \n",
        "                sp_dropout=0.2, embed_dim=200, hidden_dim=256, n_layers=3):\n",
        "    inputs = L.Input(shape=(seq_len, 3))\n",
        "    embed = L.Embedding(input_dim=embed_size, output_dim=embed_dim)(inputs)\n",
        "    \n",
        "    reshaped = tf.reshape(\n",
        "        embed, shape=(-1, embed.shape[1],  embed.shape[2] * embed.shape[3])\n",
        "    )\n",
        "    hidden = L.SpatialDropout1D(sp_dropout)(reshaped)\n",
        "    \n",
        "    for x in range(n_layers):\n",
        "        hidden = gru_layer(hidden_dim, dropout)(hidden)\n",
        "    \n",
        "    # Since we are only making predictions on the first part of each sequence, \n",
        "    # we have to truncate it\n",
        "    truncated = hidden[:, :pred_len]\n",
        "    out = L.Dense(5, activation='linear')(truncated)\n",
        "    \n",
        "    model = tf.keras.Model(inputs=inputs, outputs=out)\n",
        "    model.compile(tf.optimizers.Adam(), loss=MCRMSE)\n",
        "    \n",
        "    return model"
      ],
      "execution_count": null,
      "outputs": []
    },
    {
      "cell_type": "code",
      "metadata": {
        "id": "ISq8KY_mzdlw",
        "colab": {
          "base_uri": "https://localhost:8080/"
        },
        "outputId": "ab014dd8-f15b-4fbb-9cc1-2f675e290fef"
      },
      "source": [
        "model = build_model(embed_size=len(tokens_as_ints))\n",
        "model.summary()"
      ],
      "execution_count": null,
      "outputs": [
        {
          "output_type": "stream",
          "text": [
            "Model: \"functional_7\"\n",
            "_________________________________________________________________\n",
            "Layer (type)                 Output Shape              Param #   \n",
            "=================================================================\n",
            "input_4 (InputLayer)         [(None, 107, 3)]          0         \n",
            "_________________________________________________________________\n",
            "embedding_3 (Embedding)      (None, 107, 3, 200)       2800      \n",
            "_________________________________________________________________\n",
            "tf_op_layer_Reshape_3 (Tenso [(None, 107, 600)]        0         \n",
            "_________________________________________________________________\n",
            "spatial_dropout1d_3 (Spatial (None, 107, 600)          0         \n",
            "_________________________________________________________________\n",
            "bidirectional_9 (Bidirection (None, 107, 512)          1317888   \n",
            "_________________________________________________________________\n",
            "bidirectional_10 (Bidirectio (None, 107, 512)          1182720   \n",
            "_________________________________________________________________\n",
            "bidirectional_11 (Bidirectio (None, 107, 512)          1182720   \n",
            "_________________________________________________________________\n",
            "tf_op_layer_strided_slice_3  [(None, 68, 512)]         0         \n",
            "_________________________________________________________________\n",
            "dense_3 (Dense)              (None, 68, 5)             2565      \n",
            "=================================================================\n",
            "Total params: 3,688,693\n",
            "Trainable params: 3,688,693\n",
            "Non-trainable params: 0\n",
            "_________________________________________________________________\n"
          ],
          "name": "stdout"
        }
      ]
    },
    {
      "cell_type": "code",
      "metadata": {
        "id": "uJd5-y3Jzqrd",
        "colab": {
          "base_uri": "https://localhost:8080/"
        },
        "outputId": "d1f4ee1a-c9b6-4f22-9ff3-0096c412d0fb"
      },
      "source": [
        "history = model.fit(\n",
        "    x_train, y_train,\n",
        "    validation_data=(x_val, y_val),\n",
        "    batch_size=64,\n",
        "    epochs=1, # TODO: Up this number\n",
        "    verbose=2,\n",
        "    callbacks=[\n",
        "        tf.keras.callbacks.ReduceLROnPlateau(patience=5),\n",
        "        tf.keras.callbacks.ModelCheckpoint('model.h5')\n",
        "    ]\n",
        ")"
      ],
      "execution_count": null,
      "outputs": [
        {
          "output_type": "stream",
          "text": [
            "30/30 - 149s - loss: 0.4533 - val_loss: 0.3862\n"
          ],
          "name": "stdout"
        }
      ]
    },
    {
      "cell_type": "markdown",
      "metadata": {
        "id": "Dj8u_E9cztWP"
      },
      "source": [
        "## Evaluate training history\n",
        "Let's use Plotly to quickly visualize the training and validation loss throughout the epochs."
      ]
    },
    {
      "cell_type": "code",
      "metadata": {
        "id": "zZAS4QdYzxGn",
        "colab": {
          "base_uri": "https://localhost:8080/",
          "height": 542
        },
        "outputId": "5eff67ab-35ab-4692-8d0a-75440e3a0a7e"
      },
      "source": [
        "fig = px.line(\n",
        "    history.history, y=['loss', 'val_loss'],\n",
        "    labels={'index': 'epoch', 'value': 'MCRMSE'}, \n",
        "    title='Training History')\n",
        "fig.show()"
      ],
      "execution_count": null,
      "outputs": [
        {
          "output_type": "display_data",
          "data": {
            "text/html": [
              "<html>\n",
              "<head><meta charset=\"utf-8\" /></head>\n",
              "<body>\n",
              "    <div>\n",
              "            <script src=\"https://cdnjs.cloudflare.com/ajax/libs/mathjax/2.7.5/MathJax.js?config=TeX-AMS-MML_SVG\"></script><script type=\"text/javascript\">if (window.MathJax) {MathJax.Hub.Config({SVG: {font: \"STIX-Web\"}});}</script>\n",
              "                <script type=\"text/javascript\">window.PlotlyConfig = {MathJaxConfig: 'local'};</script>\n",
              "        <script src=\"https://cdn.plot.ly/plotly-latest.min.js\"></script>    \n",
              "            <div id=\"ee7ff4c2-56ae-43b3-86ec-9bd33b480a9f\" class=\"plotly-graph-div\" style=\"height:525px; width:100%;\"></div>\n",
              "            <script type=\"text/javascript\">\n",
              "                \n",
              "                    window.PLOTLYENV=window.PLOTLYENV || {};\n",
              "                    \n",
              "                if (document.getElementById(\"ee7ff4c2-56ae-43b3-86ec-9bd33b480a9f\")) {\n",
              "                    Plotly.newPlot(\n",
              "                        'ee7ff4c2-56ae-43b3-86ec-9bd33b480a9f',\n",
              "                        [{\"hoverlabel\": {\"namelength\": 0}, \"hovertemplate\": \"y=%{y}\", \"legendgroup\": \"\", \"line\": {\"color\": \"#636efa\", \"dash\": \"solid\"}, \"mode\": \"lines\", \"name\": \"\", \"showlegend\": false, \"type\": \"scatter\", \"xaxis\": \"x\", \"y\": [\"loss\", \"val_loss\"], \"yaxis\": \"y\"}],\n",
              "                        {\"legend\": {\"tracegroupgap\": 0}, \"template\": {\"data\": {\"bar\": [{\"error_x\": {\"color\": \"#2a3f5f\"}, \"error_y\": {\"color\": \"#2a3f5f\"}, \"marker\": {\"line\": {\"color\": \"#E5ECF6\", \"width\": 0.5}}, \"type\": \"bar\"}], \"barpolar\": [{\"marker\": {\"line\": {\"color\": \"#E5ECF6\", \"width\": 0.5}}, \"type\": \"barpolar\"}], \"carpet\": [{\"aaxis\": {\"endlinecolor\": \"#2a3f5f\", \"gridcolor\": \"white\", \"linecolor\": \"white\", \"minorgridcolor\": \"white\", \"startlinecolor\": \"#2a3f5f\"}, \"baxis\": {\"endlinecolor\": \"#2a3f5f\", \"gridcolor\": \"white\", \"linecolor\": \"white\", \"minorgridcolor\": \"white\", \"startlinecolor\": \"#2a3f5f\"}, \"type\": \"carpet\"}], \"choropleth\": [{\"colorbar\": {\"outlinewidth\": 0, \"ticks\": \"\"}, \"type\": \"choropleth\"}], \"contour\": [{\"colorbar\": {\"outlinewidth\": 0, \"ticks\": \"\"}, \"colorscale\": [[0.0, \"#0d0887\"], [0.1111111111111111, \"#46039f\"], [0.2222222222222222, \"#7201a8\"], [0.3333333333333333, \"#9c179e\"], [0.4444444444444444, \"#bd3786\"], [0.5555555555555556, \"#d8576b\"], [0.6666666666666666, \"#ed7953\"], [0.7777777777777778, \"#fb9f3a\"], [0.8888888888888888, \"#fdca26\"], [1.0, \"#f0f921\"]], \"type\": \"contour\"}], \"contourcarpet\": [{\"colorbar\": {\"outlinewidth\": 0, \"ticks\": \"\"}, \"type\": \"contourcarpet\"}], \"heatmap\": [{\"colorbar\": {\"outlinewidth\": 0, \"ticks\": \"\"}, \"colorscale\": [[0.0, \"#0d0887\"], [0.1111111111111111, \"#46039f\"], [0.2222222222222222, \"#7201a8\"], [0.3333333333333333, \"#9c179e\"], [0.4444444444444444, \"#bd3786\"], [0.5555555555555556, \"#d8576b\"], [0.6666666666666666, \"#ed7953\"], [0.7777777777777778, \"#fb9f3a\"], [0.8888888888888888, \"#fdca26\"], [1.0, \"#f0f921\"]], \"type\": \"heatmap\"}], \"heatmapgl\": [{\"colorbar\": {\"outlinewidth\": 0, \"ticks\": \"\"}, \"colorscale\": [[0.0, \"#0d0887\"], [0.1111111111111111, \"#46039f\"], [0.2222222222222222, \"#7201a8\"], [0.3333333333333333, \"#9c179e\"], [0.4444444444444444, \"#bd3786\"], [0.5555555555555556, \"#d8576b\"], [0.6666666666666666, \"#ed7953\"], [0.7777777777777778, \"#fb9f3a\"], [0.8888888888888888, \"#fdca26\"], [1.0, \"#f0f921\"]], \"type\": \"heatmapgl\"}], \"histogram\": [{\"marker\": {\"colorbar\": {\"outlinewidth\": 0, \"ticks\": \"\"}}, \"type\": \"histogram\"}], \"histogram2d\": [{\"colorbar\": {\"outlinewidth\": 0, \"ticks\": \"\"}, \"colorscale\": [[0.0, \"#0d0887\"], [0.1111111111111111, \"#46039f\"], [0.2222222222222222, \"#7201a8\"], [0.3333333333333333, \"#9c179e\"], [0.4444444444444444, \"#bd3786\"], [0.5555555555555556, \"#d8576b\"], [0.6666666666666666, \"#ed7953\"], [0.7777777777777778, \"#fb9f3a\"], [0.8888888888888888, \"#fdca26\"], [1.0, \"#f0f921\"]], \"type\": \"histogram2d\"}], \"histogram2dcontour\": [{\"colorbar\": {\"outlinewidth\": 0, \"ticks\": \"\"}, \"colorscale\": [[0.0, \"#0d0887\"], [0.1111111111111111, \"#46039f\"], [0.2222222222222222, \"#7201a8\"], [0.3333333333333333, \"#9c179e\"], [0.4444444444444444, \"#bd3786\"], [0.5555555555555556, \"#d8576b\"], [0.6666666666666666, \"#ed7953\"], [0.7777777777777778, \"#fb9f3a\"], [0.8888888888888888, \"#fdca26\"], [1.0, \"#f0f921\"]], \"type\": \"histogram2dcontour\"}], \"mesh3d\": [{\"colorbar\": {\"outlinewidth\": 0, \"ticks\": \"\"}, \"type\": \"mesh3d\"}], \"parcoords\": [{\"line\": {\"colorbar\": {\"outlinewidth\": 0, \"ticks\": \"\"}}, \"type\": \"parcoords\"}], \"pie\": [{\"automargin\": true, \"type\": \"pie\"}], \"scatter\": [{\"marker\": {\"colorbar\": {\"outlinewidth\": 0, \"ticks\": \"\"}}, \"type\": \"scatter\"}], \"scatter3d\": [{\"line\": {\"colorbar\": {\"outlinewidth\": 0, \"ticks\": \"\"}}, \"marker\": {\"colorbar\": {\"outlinewidth\": 0, \"ticks\": \"\"}}, \"type\": \"scatter3d\"}], \"scattercarpet\": [{\"marker\": {\"colorbar\": {\"outlinewidth\": 0, \"ticks\": \"\"}}, \"type\": \"scattercarpet\"}], \"scattergeo\": [{\"marker\": {\"colorbar\": {\"outlinewidth\": 0, \"ticks\": \"\"}}, \"type\": \"scattergeo\"}], \"scattergl\": [{\"marker\": {\"colorbar\": {\"outlinewidth\": 0, \"ticks\": \"\"}}, \"type\": \"scattergl\"}], \"scattermapbox\": [{\"marker\": {\"colorbar\": {\"outlinewidth\": 0, \"ticks\": \"\"}}, \"type\": \"scattermapbox\"}], \"scatterpolar\": [{\"marker\": {\"colorbar\": {\"outlinewidth\": 0, \"ticks\": \"\"}}, \"type\": \"scatterpolar\"}], \"scatterpolargl\": [{\"marker\": {\"colorbar\": {\"outlinewidth\": 0, \"ticks\": \"\"}}, \"type\": \"scatterpolargl\"}], \"scatterternary\": [{\"marker\": {\"colorbar\": {\"outlinewidth\": 0, \"ticks\": \"\"}}, \"type\": \"scatterternary\"}], \"surface\": [{\"colorbar\": {\"outlinewidth\": 0, \"ticks\": \"\"}, \"colorscale\": [[0.0, \"#0d0887\"], [0.1111111111111111, \"#46039f\"], [0.2222222222222222, \"#7201a8\"], [0.3333333333333333, \"#9c179e\"], [0.4444444444444444, \"#bd3786\"], [0.5555555555555556, \"#d8576b\"], [0.6666666666666666, \"#ed7953\"], [0.7777777777777778, \"#fb9f3a\"], [0.8888888888888888, \"#fdca26\"], [1.0, \"#f0f921\"]], \"type\": \"surface\"}], \"table\": [{\"cells\": {\"fill\": {\"color\": \"#EBF0F8\"}, \"line\": {\"color\": \"white\"}}, \"header\": {\"fill\": {\"color\": \"#C8D4E3\"}, \"line\": {\"color\": \"white\"}}, \"type\": \"table\"}]}, \"layout\": {\"annotationdefaults\": {\"arrowcolor\": \"#2a3f5f\", \"arrowhead\": 0, \"arrowwidth\": 1}, \"coloraxis\": {\"colorbar\": {\"outlinewidth\": 0, \"ticks\": \"\"}}, \"colorscale\": {\"diverging\": [[0, \"#8e0152\"], [0.1, \"#c51b7d\"], [0.2, \"#de77ae\"], [0.3, \"#f1b6da\"], [0.4, \"#fde0ef\"], [0.5, \"#f7f7f7\"], [0.6, \"#e6f5d0\"], [0.7, \"#b8e186\"], [0.8, \"#7fbc41\"], [0.9, \"#4d9221\"], [1, \"#276419\"]], \"sequential\": [[0.0, \"#0d0887\"], [0.1111111111111111, \"#46039f\"], [0.2222222222222222, \"#7201a8\"], [0.3333333333333333, \"#9c179e\"], [0.4444444444444444, \"#bd3786\"], [0.5555555555555556, \"#d8576b\"], [0.6666666666666666, \"#ed7953\"], [0.7777777777777778, \"#fb9f3a\"], [0.8888888888888888, \"#fdca26\"], [1.0, \"#f0f921\"]], \"sequentialminus\": [[0.0, \"#0d0887\"], [0.1111111111111111, \"#46039f\"], [0.2222222222222222, \"#7201a8\"], [0.3333333333333333, \"#9c179e\"], [0.4444444444444444, \"#bd3786\"], [0.5555555555555556, \"#d8576b\"], [0.6666666666666666, \"#ed7953\"], [0.7777777777777778, \"#fb9f3a\"], [0.8888888888888888, \"#fdca26\"], [1.0, \"#f0f921\"]]}, \"colorway\": [\"#636efa\", \"#EF553B\", \"#00cc96\", \"#ab63fa\", \"#FFA15A\", \"#19d3f3\", \"#FF6692\", \"#B6E880\", \"#FF97FF\", \"#FECB52\"], \"font\": {\"color\": \"#2a3f5f\"}, \"geo\": {\"bgcolor\": \"white\", \"lakecolor\": \"white\", \"landcolor\": \"#E5ECF6\", \"showlakes\": true, \"showland\": true, \"subunitcolor\": \"white\"}, \"hoverlabel\": {\"align\": \"left\"}, \"hovermode\": \"closest\", \"mapbox\": {\"style\": \"light\"}, \"paper_bgcolor\": \"white\", \"plot_bgcolor\": \"#E5ECF6\", \"polar\": {\"angularaxis\": {\"gridcolor\": \"white\", \"linecolor\": \"white\", \"ticks\": \"\"}, \"bgcolor\": \"#E5ECF6\", \"radialaxis\": {\"gridcolor\": \"white\", \"linecolor\": \"white\", \"ticks\": \"\"}}, \"scene\": {\"xaxis\": {\"backgroundcolor\": \"#E5ECF6\", \"gridcolor\": \"white\", \"gridwidth\": 2, \"linecolor\": \"white\", \"showbackground\": true, \"ticks\": \"\", \"zerolinecolor\": \"white\"}, \"yaxis\": {\"backgroundcolor\": \"#E5ECF6\", \"gridcolor\": \"white\", \"gridwidth\": 2, \"linecolor\": \"white\", \"showbackground\": true, \"ticks\": \"\", \"zerolinecolor\": \"white\"}, \"zaxis\": {\"backgroundcolor\": \"#E5ECF6\", \"gridcolor\": \"white\", \"gridwidth\": 2, \"linecolor\": \"white\", \"showbackground\": true, \"ticks\": \"\", \"zerolinecolor\": \"white\"}}, \"shapedefaults\": {\"line\": {\"color\": \"#2a3f5f\"}}, \"ternary\": {\"aaxis\": {\"gridcolor\": \"white\", \"linecolor\": \"white\", \"ticks\": \"\"}, \"baxis\": {\"gridcolor\": \"white\", \"linecolor\": \"white\", \"ticks\": \"\"}, \"bgcolor\": \"#E5ECF6\", \"caxis\": {\"gridcolor\": \"white\", \"linecolor\": \"white\", \"ticks\": \"\"}}, \"title\": {\"x\": 0.05}, \"xaxis\": {\"automargin\": true, \"gridcolor\": \"white\", \"linecolor\": \"white\", \"ticks\": \"\", \"title\": {\"standoff\": 15}, \"zerolinecolor\": \"white\", \"zerolinewidth\": 2}, \"yaxis\": {\"automargin\": true, \"gridcolor\": \"white\", \"linecolor\": \"white\", \"ticks\": \"\", \"title\": {\"standoff\": 15}, \"zerolinecolor\": \"white\", \"zerolinewidth\": 2}}}, \"title\": {\"text\": \"Training History\"}, \"xaxis\": {\"anchor\": \"y\", \"domain\": [0.0, 1.0]}, \"yaxis\": {\"anchor\": \"x\", \"domain\": [0.0, 1.0], \"title\": {\"text\": \"y\"}}},\n",
              "                        {\"responsive\": true}\n",
              "                    ).then(function(){\n",
              "                            \n",
              "var gd = document.getElementById('ee7ff4c2-56ae-43b3-86ec-9bd33b480a9f');\n",
              "var x = new MutationObserver(function (mutations, observer) {{\n",
              "        var display = window.getComputedStyle(gd).display;\n",
              "        if (!display || display === 'none') {{\n",
              "            console.log([gd, 'removed!']);\n",
              "            Plotly.purge(gd);\n",
              "            observer.disconnect();\n",
              "        }}\n",
              "}});\n",
              "\n",
              "// Listen for the removal of the full notebook cells\n",
              "var notebookContainer = gd.closest('#notebook-container');\n",
              "if (notebookContainer) {{\n",
              "    x.observe(notebookContainer, {childList: true});\n",
              "}}\n",
              "\n",
              "// Listen for the clearing of the current output cell\n",
              "var outputEl = gd.closest('.output');\n",
              "if (outputEl) {{\n",
              "    x.observe(outputEl, {childList: true});\n",
              "}}\n",
              "\n",
              "                        })\n",
              "                };\n",
              "                \n",
              "            </script>\n",
              "        </div>\n",
              "</body>\n",
              "</html>"
            ]
          },
          "metadata": {
            "tags": []
          }
        }
      ]
    },
    {
      "cell_type": "markdown",
      "metadata": {
        "id": "PWYXZxttzz9f"
      },
      "source": [
        "## Load models and make predictions\n",
        "Public and private sets have different sequence lengths, so we will preprocess them separately and load models of different tensor shapes. This is possible because RNN models can accept sequences of varying lengths as inputs."
      ]
    },
    {
      "cell_type": "code",
      "metadata": {
        "id": "B9fXikmbz3Qw"
      },
      "source": [
        "# Caveat: The prediction format requires the output to be the same length as the input,\n",
        "# although it's not the case for the training data.\n",
        "model_public = build_model(seq_len=107, pred_len=107, embed_size=len(tokens_as_ints))\n",
        "model_private = build_model(seq_len=130, pred_len=130, embed_size=len(tokens_as_ints))\n",
        "\n",
        "model_public.load_weights('model.h5')\n",
        "model_private.load_weights('model.h5')"
      ],
      "execution_count": null,
      "outputs": []
    },
    {
      "cell_type": "code",
      "metadata": {
        "id": "V_YDx6bAz5tE"
      },
      "source": [
        "public_preds = model_public.predict(public_inputs)\n",
        "private_preds = model_private.predict(private_inputs)"
      ],
      "execution_count": null,
      "outputs": []
    },
    {
      "cell_type": "markdown",
      "metadata": {
        "id": "63j-voU5z792"
      },
      "source": [
        "## Post-processing and submit\n",
        "For each sample, we take the predicted tensors of shape (107, 5) or (130, 5), and convert them to the long format (i.e.  629×107,5  or  3005×130,5 ):"
      ]
    },
    {
      "cell_type": "code",
      "metadata": {
        "id": "9sakIzmaz_uP",
        "colab": {
          "base_uri": "https://localhost:8080/",
          "height": 204
        },
        "outputId": "80ef08ad-d097-484d-e47b-406490d86732"
      },
      "source": [
        "preds_ls = []\n",
        "\n",
        "for df, preds in [(public_df, public_preds), (private_df, private_preds)]:\n",
        "    for i, uid in enumerate(df.id):\n",
        "        single_pred = preds[i]\n",
        "\n",
        "        single_df = pd.DataFrame(single_pred, columns=pred_cols)\n",
        "        single_df['id_seqpos'] = [f'{uid}_{x}' for x in range(single_df.shape[0])]\n",
        "\n",
        "        preds_ls.append(single_df)\n",
        "\n",
        "preds_df = pd.concat(preds_ls)\n",
        "preds_df.head()"
      ],
      "execution_count": null,
      "outputs": [
        {
          "output_type": "execute_result",
          "data": {
            "text/html": [
              "<div>\n",
              "<style scoped>\n",
              "    .dataframe tbody tr th:only-of-type {\n",
              "        vertical-align: middle;\n",
              "    }\n",
              "\n",
              "    .dataframe tbody tr th {\n",
              "        vertical-align: top;\n",
              "    }\n",
              "\n",
              "    .dataframe thead th {\n",
              "        text-align: right;\n",
              "    }\n",
              "</style>\n",
              "<table border=\"1\" class=\"dataframe\">\n",
              "  <thead>\n",
              "    <tr style=\"text-align: right;\">\n",
              "      <th></th>\n",
              "      <th>reactivity</th>\n",
              "      <th>deg_Mg_pH10</th>\n",
              "      <th>deg_Mg_50C</th>\n",
              "      <th>deg_pH10</th>\n",
              "      <th>deg_50C</th>\n",
              "      <th>id_seqpos</th>\n",
              "    </tr>\n",
              "  </thead>\n",
              "  <tbody>\n",
              "    <tr>\n",
              "      <th>0</th>\n",
              "      <td>0.857860</td>\n",
              "      <td>1.157566</td>\n",
              "      <td>1.137862</td>\n",
              "      <td>2.102659</td>\n",
              "      <td>1.085711</td>\n",
              "      <td>id_00073f8be_0</td>\n",
              "    </tr>\n",
              "    <tr>\n",
              "      <th>1</th>\n",
              "      <td>1.180233</td>\n",
              "      <td>1.317555</td>\n",
              "      <td>1.413677</td>\n",
              "      <td>2.000974</td>\n",
              "      <td>1.346914</td>\n",
              "      <td>id_00073f8be_1</td>\n",
              "    </tr>\n",
              "    <tr>\n",
              "      <th>2</th>\n",
              "      <td>1.216386</td>\n",
              "      <td>1.246495</td>\n",
              "      <td>1.439602</td>\n",
              "      <td>1.650966</td>\n",
              "      <td>1.345469</td>\n",
              "      <td>id_00073f8be_2</td>\n",
              "    </tr>\n",
              "    <tr>\n",
              "      <th>3</th>\n",
              "      <td>1.069229</td>\n",
              "      <td>1.073168</td>\n",
              "      <td>1.301341</td>\n",
              "      <td>1.286940</td>\n",
              "      <td>1.195011</td>\n",
              "      <td>id_00073f8be_3</td>\n",
              "    </tr>\n",
              "    <tr>\n",
              "      <th>4</th>\n",
              "      <td>0.845142</td>\n",
              "      <td>0.867759</td>\n",
              "      <td>1.079663</td>\n",
              "      <td>0.973473</td>\n",
              "      <td>0.984996</td>\n",
              "      <td>id_00073f8be_4</td>\n",
              "    </tr>\n",
              "  </tbody>\n",
              "</table>\n",
              "</div>"
            ],
            "text/plain": [
              "   reactivity  deg_Mg_pH10  deg_Mg_50C  deg_pH10   deg_50C       id_seqpos\n",
              "0    0.857860     1.157566    1.137862  2.102659  1.085711  id_00073f8be_0\n",
              "1    1.180233     1.317555    1.413677  2.000974  1.346914  id_00073f8be_1\n",
              "2    1.216386     1.246495    1.439602  1.650966  1.345469  id_00073f8be_2\n",
              "3    1.069229     1.073168    1.301341  1.286940  1.195011  id_00073f8be_3\n",
              "4    0.845142     0.867759    1.079663  0.973473  0.984996  id_00073f8be_4"
            ]
          },
          "metadata": {
            "tags": []
          },
          "execution_count": 71
        }
      ]
    },
    {
      "cell_type": "code",
      "metadata": {
        "id": "MHkmrcS10EgV"
      },
      "source": [
        "submission = sample_df[['id_seqpos']].merge(preds_df, on=['id_seqpos'])\n",
        "submission.to_csv('submission.csv', index=False) "
      ],
      "execution_count": null,
      "outputs": []
    }
  ]
}
